{
  "nbformat": 4,
  "nbformat_minor": 0,
  "metadata": {
    "colab": {
      "name": "Copy_Python101.ipynb",
      "provenance": [],
      "collapsed_sections": []
    },
    "kernelspec": {
      "name": "python3",
      "display_name": "Python 3"
    }
  },
  "cells": [
    {
      "cell_type": "markdown",
      "metadata": {
        "id": "jXS_TkEMZXiG",
        "colab_type": "text"
      },
      "source": [
        ""
      ]
    },
    {
      "cell_type": "markdown",
      "metadata": {
        "id": "mnJ8ar0thqYq",
        "colab_type": "text"
      },
      "source": [
        "# Python 101\n",
        "![alt text](https://encrypted-tbn0.gstatic.com/images?q=tbn%3AANd9GcRZpTmijaNOH6MmycM_eiPKcEl5mVvbwl7a8YKVGpEEMIanDcSt)\n",
        "\n",
        "This is a MUST Python Refresher. You must finish this notebook as a part of overall grading.\n",
        "\n",
        "Majority of this notebook is inspired from: Stanford's Python Refresher which can be found at: https://cs231n.github.io/python-numpy-tutorial/\n",
        "\n",
        "\n",
        "\n",
        "---\n",
        "\n",
        "**We have modified the original notebook and added some questions here. You need to find the solutions and provide answers in your Q1 - Python 101 Quiz.**\n"
      ]
    },
    {
      "cell_type": "markdown",
      "metadata": {
        "id": "nq-sNhAjiAxa",
        "colab_type": "text"
      },
      "source": [
        "# Python\n",
        "Python is a high-level, dynamically typed multiparadigm programming language. Python code is often said to be almost like pseudocode, since it allows you to express very powerful ideas in very few lines of code while being very readable.\n",
        "\n",
        "---\n",
        "\n",
        "## Python Versions\n",
        "\n",
        "There are currently two different supported versions of Python, 2.7 and 3.5. Somewhat confusingly, Python 3.0 introduced many backwards-incompatible changes to the language, so code written for 2.7 may not work under 3.5 and vice versa. For this class all code will use Python 3.5 or higher.\n",
        "\n",
        "You can check your Python version at the command line by running `python --version`\n"
      ]
    },
    {
      "cell_type": "code",
      "metadata": {
        "id": "83uo1kNDhaoU",
        "colab_type": "code",
        "colab": {
          "base_uri": "https://localhost:8080/",
          "height": 34
        },
        "outputId": "0e16d36e-b078-47e2-a21e-41fd3ff90c34"
      },
      "source": [
        "!python --version"
      ],
      "execution_count": null,
      "outputs": [
        {
          "output_type": "stream",
          "text": [
            "Python 3.6.9\n"
          ],
          "name": "stdout"
        }
      ]
    },
    {
      "cell_type": "markdown",
      "metadata": {
        "id": "_6vYrEaCi1Ml",
        "colab_type": "text"
      },
      "source": [
        "## Basic data types\n",
        "\n",
        "Like most languages, Python has a number of basic types including integers, floats, booleans, and strings. These data types behave in ways that are familiar from other programming languages.\n",
        "\n",
        "**Numbers**: Integers and floats work as you would expect from other languages:"
      ]
    },
    {
      "cell_type": "code",
      "metadata": {
        "id": "MTxgJLRchuwK",
        "colab_type": "code",
        "colab": {
          "base_uri": "https://localhost:8080/",
          "height": 204
        },
        "outputId": "636ad171-63bd-44ae-8a67-67b90e29404d"
      },
      "source": [
        "x = 37 # Initial Value of x\n",
        "print(type(x)) # Prints \"<class 'int'>\"\n",
        "print(x)       # Prints \"3\"\n",
        "print(x + 1)   # Addition; prints \"4\"\n",
        "print(x - 1)   # Subtraction; prints \"2\"\n",
        "print(x * 2)   # Multiplication; prints \"6\"\n",
        "print(x ** 2)  # Exponentiation; prints \"9\"\n",
        "x += 1\n",
        "print(x)  # Prints \"4\"\n",
        "x *= 2\n",
        "print(x)  # Prints \"8\"\n",
        "y = 2.5\n",
        "print(type(y)) # Prints \"<class 'float'>\"\n",
        "print(y, y + 1, y * 2, y ** 2) # Prints \"2.5 3.5 5.0 6.25\"\n",
        "\n",
        "x = x * y + x + y # Final value of x\n",
        "print(\"Final Value of x is:\", x)"
      ],
      "execution_count": null,
      "outputs": [
        {
          "output_type": "stream",
          "text": [
            "<class 'int'>\n",
            "37\n",
            "38\n",
            "36\n",
            "74\n",
            "1369\n",
            "38\n",
            "76\n",
            "<class 'float'>\n",
            "2.5 3.5 5.0 6.25\n",
            "Final Value of x is: 268.5\n"
          ],
          "name": "stdout"
        }
      ]
    },
    {
      "cell_type": "markdown",
      "metadata": {
        "id": "0IIODSSfjaCd",
        "colab_type": "text"
      },
      "source": [
        "# Quiz Question 1\n",
        "With what integer value shall x be initialized as, such that Final Value of x is 268.5? Please mention the answer in INT value without decimal (e.g. 4, 2, 12, etc.).\n",
        "\n",
        "Please answer this question in the Quiz Section.\n",
        "\n",
        "\n",
        "\n",
        "---\n",
        "\n",
        "**Booleans**\n",
        "\n",
        "Python implements all of the usual operators for Boolean logic, but uses English words rather than symbols (&&, ||, etc.):\n",
        "\n"
      ]
    },
    {
      "cell_type": "code",
      "metadata": {
        "id": "71wNg5mgi-th",
        "colab_type": "code",
        "colab": {
          "base_uri": "https://localhost:8080/",
          "height": 102
        },
        "outputId": "2089fe98-81c7-43ea-906e-717f3f524ec6"
      },
      "source": [
        "t = True\n",
        "f = False\n",
        "print(type(t)) # Prints \"<class 'bool'>\"\n",
        "print(t and f) # Logical AND; prints \"False\"\n",
        "print(t or f)  # Logical OR; prints \"True\"\n",
        "print(not t)   # Logical NOT; prints \"False\"\n",
        "print(t != f)  # Logical XOR; prints \"True\""
      ],
      "execution_count": null,
      "outputs": [
        {
          "output_type": "stream",
          "text": [
            "<class 'bool'>\n",
            "False\n",
            "True\n",
            "False\n",
            "True\n"
          ],
          "name": "stdout"
        }
      ]
    },
    {
      "cell_type": "markdown",
      "metadata": {
        "id": "JM1p20Yml9gI",
        "colab_type": "text"
      },
      "source": [
        "# Quiz Question 2\n",
        "What is the value of \n",
        "\n",
        "```\n",
        "not ( not t + f * t)\n",
        "```\n",
        "if executed after the code block above?\n",
        "\n"
      ]
    },
    {
      "cell_type": "code",
      "metadata": {
        "id": "m1qxcoxNPuv9",
        "colab_type": "code",
        "colab": {
          "base_uri": "https://localhost:8080/",
          "height": 34
        },
        "outputId": "f03e2abf-eb1a-4efb-8326-baba446db7bd"
      },
      "source": [
        "not(not t + f * t)"
      ],
      "execution_count": null,
      "outputs": [
        {
          "output_type": "execute_result",
          "data": {
            "text/plain": [
              "True"
            ]
          },
          "metadata": {
            "tags": []
          },
          "execution_count": 11
        }
      ]
    },
    {
      "cell_type": "markdown",
      "metadata": {
        "id": "eDZGqwnam36m",
        "colab_type": "text"
      },
      "source": [
        "\n",
        "**Strings**\n",
        "\n",
        "Python has great support for strings:"
      ]
    },
    {
      "cell_type": "code",
      "metadata": {
        "id": "RLLlfEVSlg4A",
        "colab_type": "code",
        "colab": {
          "base_uri": "https://localhost:8080/",
          "height": 102
        },
        "outputId": "c71155a3-936d-4151-c659-499670e4c5e2"
      },
      "source": [
        "hello = 'hello'    # String literals can use single quotes\n",
        "world = \"world\"    # or double quotes; it does not matter.\n",
        "print(hello)       # Prints \"hello\"\n",
        "print(len(hello))  # String length; prints \"5\"\n",
        "hw = hello + ' ' + world  # String concatenation\n",
        "print(hw)  # prints \"hello world\"\n",
        "hw6 = '%s %s %d' % (hello, world, 6)  # sprintf style string formatting\n",
        "print(hw6)  # prints \"hello world 6\"\n",
        "\n",
        "location = 12\n",
        "print(hw6[location])"
      ],
      "execution_count": 11,
      "outputs": [
        {
          "output_type": "stream",
          "text": [
            "hello\n",
            "5\n",
            "hello world\n",
            "hello world 6\n",
            "6\n"
          ],
          "name": "stdout"
        }
      ]
    },
    {
      "cell_type": "markdown",
      "metadata": {
        "id": "bxRbRr7jng8C",
        "colab_type": "text"
      },
      "source": [
        "# Quiz Question 3\n",
        "\n",
        "What should be the value of \"location\" such that print(hw6[location]) prints 6?"
      ]
    },
    {
      "cell_type": "code",
      "metadata": {
        "id": "4Qh7c0uJR5vm",
        "colab_type": "code",
        "colab": {
          "base_uri": "https://localhost:8080/",
          "height": 34
        },
        "outputId": "7f7a6e28-a8ff-4415-b0ef-450dd0f579ac"
      },
      "source": [
        "location = 12\n",
        "print(hw6[location])"
      ],
      "execution_count": null,
      "outputs": [
        {
          "output_type": "stream",
          "text": [
            "6\n"
          ],
          "name": "stdout"
        }
      ]
    },
    {
      "cell_type": "markdown",
      "metadata": {
        "id": "rwkFgdCSn4th",
        "colab_type": "text"
      },
      "source": [
        "## Containers\n",
        "\n",
        "Python includes several built-in container types: lists, dictionaries,sets, and tuples.\n",
        "\n",
        "**Lists**\n",
        "A list is the Python equivalent of an array, but is resizeable and can contain elements of different types:\n",
        "\n"
      ]
    },
    {
      "cell_type": "code",
      "metadata": {
        "id": "UBa5s5SYnNoT",
        "colab_type": "code",
        "colab": {
          "base_uri": "https://localhost:8080/",
          "height": 102
        },
        "outputId": "1f89e13e-b135-41bb-9248-4fb047fc92db"
      },
      "source": [
        "xs = [3, 1, 2]    # Create a list\n",
        "print(xs, xs[2])  # Prints \"[3, 1, 2] 2\"\n",
        "print(xs[-1])     # Negative indices count from the end of the list; prints \"2\"\n",
        "xs[2] = 'foo'     # Lists can contain elements of different types\n",
        "print(xs)         # Prints \"[3, 1, 'foo']\"\n",
        "xs.append('bar')  # Add a new element to the end of the list\n",
        "print(xs)         # Prints \"[3, 1, 'foo', 'bar']\"\n",
        "x = xs.pop()      # Remove and return the last element of the list\n",
        "print(x, xs)      # Prints \"bar [3, 1, 'foo']\""
      ],
      "execution_count": null,
      "outputs": [
        {
          "output_type": "stream",
          "text": [
            "[3, 1, 2] 2\n",
            "2\n",
            "[3, 1, 'foo']\n",
            "[3, 1, 'foo', 'bar']\n",
            "bar [3, 1, 'foo']\n"
          ],
          "name": "stdout"
        }
      ]
    },
    {
      "cell_type": "code",
      "metadata": {
        "id": "uSOQA85xoEU9",
        "colab_type": "code",
        "colab": {
          "base_uri": "https://localhost:8080/",
          "height": 153
        },
        "outputId": "66e3ed74-ecce-4481-e5aa-c743277bf7f9"
      },
      "source": [
        "rng = 9\n",
        "nums = list(range(rng))     # range is a built-in function that creates a list of integers\n",
        "print(nums)               # Prints \"[0, 1, 2, 3, 4]\"\n",
        "print(nums[2:4])          # Get a slice from index 2 to 4 (exclusive); prints \"[2, 3]\"\n",
        "print(nums[2:])           # Get a slice from index 2 to the end; prints \"[2, 3, 4]\"\n",
        "print(nums[:2])           # Get a slice from the start to index 2 (exclusive); prints \"[0, 1]\"\n",
        "print(nums[:])            # Get a slice of the whole list; prints \"[0, 1, 2, 3, 4]\"\n",
        "print(nums[:-1])          # Slice indices can be negative; prints \"[0, 1, 2, 3]\"\n",
        "nums[2:4] = [8, 9]        # Assign a new sublist to a slice\n",
        "print(nums)               # Prints \"[0, 1, 8, 9, 4]\"\n",
        "print(sum(nums))"
      ],
      "execution_count": 12,
      "outputs": [
        {
          "output_type": "stream",
          "text": [
            "[0, 1, 2, 3, 4, 5, 6, 7, 8]\n",
            "[2, 3]\n",
            "[2, 3, 4, 5, 6, 7, 8]\n",
            "[0, 1]\n",
            "[0, 1, 2, 3, 4, 5, 6, 7, 8]\n",
            "[0, 1, 2, 3, 4, 5, 6, 7]\n",
            "[0, 1, 8, 9, 4, 5, 6, 7, 8]\n",
            "48\n"
          ],
          "name": "stdout"
        }
      ]
    },
    {
      "cell_type": "markdown",
      "metadata": {
        "id": "CEZWL3raol4N",
        "colab_type": "text"
      },
      "source": [
        "# Quiz Question 4\n",
        "\n",
        "What should be the value of rng, such that print(sum(nums)) prints 48?"
      ]
    },
    {
      "cell_type": "markdown",
      "metadata": {
        "id": "KZ209w-wpD13",
        "colab_type": "text"
      },
      "source": [
        "**Loops**\n",
        "\n",
        "You can loop over elements of a list like this:\n"
      ]
    },
    {
      "cell_type": "code",
      "metadata": {
        "id": "Zaus1Jfqoej1",
        "colab_type": "code",
        "colab": {
          "base_uri": "https://localhost:8080/",
          "height": 68
        },
        "outputId": "92cb8d6b-7456-4ddc-f05f-a0e8f0706d2e"
      },
      "source": [
        "animals = ['cat', 'dog', 'monkey']\n",
        "for animal in animals:\n",
        "    print(animal)"
      ],
      "execution_count": null,
      "outputs": [
        {
          "output_type": "stream",
          "text": [
            "cat\n",
            "dog\n",
            "monkey\n"
          ],
          "name": "stdout"
        }
      ]
    },
    {
      "cell_type": "markdown",
      "metadata": {
        "id": "1RaBN3jYpX1f",
        "colab_type": "text"
      },
      "source": [
        "If you want access to the index of each element within the body of a loop, use the built-in `enumerate` function:"
      ]
    },
    {
      "cell_type": "code",
      "metadata": {
        "id": "QmkdTkicpJ9y",
        "colab_type": "code",
        "colab": {
          "base_uri": "https://localhost:8080/",
          "height": 68
        },
        "outputId": "6ab5412f-c061-4c75-b952-7af7e17a5e41"
      },
      "source": [
        "animals = ['cat', 'dog', 'monkey']\n",
        "for idx, animal in enumerate(animals):\n",
        "    print('#%d: %s' % (idx + 1, animal))"
      ],
      "execution_count": null,
      "outputs": [
        {
          "output_type": "stream",
          "text": [
            "#1: cat\n",
            "#2: dog\n",
            "#3: monkey\n"
          ],
          "name": "stdout"
        }
      ]
    },
    {
      "cell_type": "markdown",
      "metadata": {
        "id": "xoMtCthyphX6",
        "colab_type": "text"
      },
      "source": [
        "**List comprehensions**\n",
        "\n",
        "When programming, frequently we want to transform one type of data into another. As a simple example, consider the following code that computes square numbers:"
      ]
    },
    {
      "cell_type": "code",
      "metadata": {
        "id": "OQscx7VMpawj",
        "colab_type": "code",
        "colab": {
          "base_uri": "https://localhost:8080/",
          "height": 34
        },
        "outputId": "b4f178c6-3cf7-46fb-d776-eaf0a2dfec48"
      },
      "source": [
        "rng2 = 7\n",
        "nums = range(rng2)\n",
        "squares = []\n",
        "for x in nums:\n",
        "    squares.append(x ** 2)\n",
        "print(sum(squares))"
      ],
      "execution_count": 13,
      "outputs": [
        {
          "output_type": "stream",
          "text": [
            "91\n"
          ],
          "name": "stdout"
        }
      ]
    },
    {
      "cell_type": "markdown",
      "metadata": {
        "id": "51YLXn81p45I",
        "colab_type": "text"
      },
      "source": [
        "# Quiz Question 5\n",
        "What should be the value of rng2, such that the code block above prints 91?"
      ]
    },
    {
      "cell_type": "markdown",
      "metadata": {
        "id": "yRS97sf2qelf",
        "colab_type": "text"
      },
      "source": [
        "You can make this code simpler using a **list comprehension**:"
      ]
    },
    {
      "cell_type": "code",
      "metadata": {
        "id": "23oZl87VponY",
        "colab_type": "code",
        "colab": {
          "base_uri": "https://localhost:8080/",
          "height": 34
        },
        "outputId": "cfd95e76-ceb0-4e85-d474-f66f91e172dc"
      },
      "source": [
        "nums = [0, 1, 2, 3, 4]\n",
        "squares = [x ** 2 for x in nums]\n",
        "print(squares) "
      ],
      "execution_count": null,
      "outputs": [
        {
          "output_type": "stream",
          "text": [
            "[0, 1, 4, 9, 16]\n"
          ],
          "name": "stdout"
        }
      ]
    },
    {
      "cell_type": "markdown",
      "metadata": {
        "id": "5OjCcNtXqj8v",
        "colab_type": "text"
      },
      "source": [
        "List comprehensions can also contain **conditions**:"
      ]
    },
    {
      "cell_type": "code",
      "metadata": {
        "id": "9DFWQ0Paqlxb",
        "colab_type": "code",
        "colab": {
          "base_uri": "https://localhost:8080/",
          "height": 34
        },
        "outputId": "fcf28497-16a7-4559-df14-c6fdb7984c40"
      },
      "source": [
        "rng3 = 13 #14\n",
        "nums = range(rng3)\n",
        "even_squares = [x ** 2 for x in nums if x % 2 == 0]\n",
        "print(sum(even_squares))"
      ],
      "execution_count": 14,
      "outputs": [
        {
          "output_type": "stream",
          "text": [
            "364\n"
          ],
          "name": "stdout"
        }
      ]
    },
    {
      "cell_type": "markdown",
      "metadata": {
        "id": "-9nL0W3Jq9Uo",
        "colab_type": "text"
      },
      "source": [
        "# Quiz Question 6\n",
        "\n",
        "What is the **sum of the two values** to which rng3 can be set such that the output above is 364?"
      ]
    },
    {
      "cell_type": "markdown",
      "metadata": {
        "id": "rqy0ypQKrnb_",
        "colab_type": "text"
      },
      "source": [
        "## Dictionaries\n",
        "\n",
        "A dictionary stores (key, value) pairs, similar to a `Map` in Java or an object in Javascript. You can use it like this:"
      ]
    },
    {
      "cell_type": "code",
      "metadata": {
        "id": "S-obxQS9quER",
        "colab_type": "code",
        "colab": {
          "base_uri": "https://localhost:8080/",
          "height": 119
        },
        "outputId": "dd8069ee-1ef5-490c-ce92-8f1bcc7e65d4"
      },
      "source": [
        "d = {'cat': 'cute', 'dog': 'furry'}  # Create a new dictionary with some data\n",
        "print(d['cat'])       # Get an entry from a dictionary; prints \"cute\"\n",
        "print('cat' in d)     # Check if a dictionary has a given key; prints \"True\"\n",
        "d['fish'] = 'wet'     # Set an entry in a dictionary\n",
        "print(d['fish'])      # Prints \"wet\"\n",
        "# print(d['monkey'])  # KeyError: 'monkey' not a key of d\n",
        "print(d.get('monkey', 'N/A'))  # Get an element with a default; prints \"N/A\"\n",
        "print(d.get('fish', 'N/A'))    # Get an element with a default; prints \"wet\"\n",
        "del d['fish']         # Remove an element from a dictionary\n",
        "print(d.get('fish', 'N/A')) # \"fish\" is no longer a key; prints \"N/A\""
      ],
      "execution_count": null,
      "outputs": [
        {
          "output_type": "stream",
          "text": [
            "cute\n",
            "True\n",
            "wet\n",
            "N/A\n",
            "wet\n",
            "N/A\n"
          ],
          "name": "stdout"
        }
      ]
    },
    {
      "cell_type": "markdown",
      "metadata": {
        "id": "ZY6vTNV5rwDZ",
        "colab_type": "text"
      },
      "source": [
        "**Loops**: It is easy to iterate over the keys in a dictionary:"
      ]
    },
    {
      "cell_type": "code",
      "metadata": {
        "id": "MDs1ZBkerx4p",
        "colab_type": "code",
        "colab": {
          "base_uri": "https://localhost:8080/",
          "height": 68
        },
        "outputId": "e92194a7-a34d-4057-9c97-5951cdd0c0ce"
      },
      "source": [
        "d = {'person': 2, 'cat': 4, 'spider': 8}\n",
        "for animal in d:\n",
        "    legs = d[animal]\n",
        "    print('A %s has %d legs' % (animal, legs))"
      ],
      "execution_count": null,
      "outputs": [
        {
          "output_type": "stream",
          "text": [
            "A person has 2 legs\n",
            "A cat has 4 legs\n",
            "A spider has 8 legs\n"
          ],
          "name": "stdout"
        }
      ]
    },
    {
      "cell_type": "markdown",
      "metadata": {
        "id": "ssuwj7Slr2_l",
        "colab_type": "text"
      },
      "source": [
        "If you want access to keys and their corresponding values, use the `items` method:"
      ]
    },
    {
      "cell_type": "code",
      "metadata": {
        "id": "H3V3iok8rz1Q",
        "colab_type": "code",
        "colab": {
          "base_uri": "https://localhost:8080/",
          "height": 68
        },
        "outputId": "6af643a9-e9d2-483a-ce8d-27f5965ff762"
      },
      "source": [
        "d = {'person': 2, 'cat': 4, 'spider': 8}\n",
        "for animal, legs in d.items():\n",
        "    print('A %s has %d legs' % (animal, legs))"
      ],
      "execution_count": null,
      "outputs": [
        {
          "output_type": "stream",
          "text": [
            "A person has 2 legs\n",
            "A cat has 4 legs\n",
            "A spider has 8 legs\n"
          ],
          "name": "stdout"
        }
      ]
    },
    {
      "cell_type": "markdown",
      "metadata": {
        "id": "2sLbIbpLsDtC",
        "colab_type": "text"
      },
      "source": [
        "**Dictionary comprehensions**\n",
        "\n",
        "These are similar to list comprehensions, but allow you to easily construct dictionaries. For example:"
      ]
    },
    {
      "cell_type": "code",
      "metadata": {
        "id": "55LbErmbr5uo",
        "colab_type": "code",
        "colab": {
          "base_uri": "https://localhost:8080/",
          "height": 34
        },
        "outputId": "09b08209-8f34-40b4-87f6-7437fc9d2204"
      },
      "source": [
        "nums = [0, 1, 2, 3, 4]\n",
        "even_num_to_square = {x: x ** 2 for x in nums if x % 2 == 0}\n",
        "print(even_num_to_square)"
      ],
      "execution_count": null,
      "outputs": [
        {
          "output_type": "stream",
          "text": [
            "{0: 0, 2: 4, 4: 16}\n"
          ],
          "name": "stdout"
        }
      ]
    },
    {
      "cell_type": "markdown",
      "metadata": {
        "id": "mZEdOdr9sOk9",
        "colab_type": "text"
      },
      "source": [
        "## Sets\n",
        "A set is an unordered collection of distinct elements. As a simple example, consider the following:\n"
      ]
    },
    {
      "cell_type": "code",
      "metadata": {
        "id": "kXzFjXrvsH_n",
        "colab_type": "code",
        "colab": {
          "base_uri": "https://localhost:8080/",
          "height": 119
        },
        "outputId": "3eac26bb-4ab8-44c2-b162-6572de72baa6"
      },
      "source": [
        "animals = {'cat', 'dog'}\n",
        "print('cat' in animals)   # Check if an element is in a set; prints \"True\"\n",
        "print('fish' in animals)  # prints \"False\"\n",
        "animals.add('fish')       # Add an element to a set\n",
        "print('fish' in animals)  # Prints \"True\"\n",
        "print(len(animals))       # Number of elements in a set; prints \"3\"\n",
        "animals.add('cat')        # Adding an element that is already in the set does nothing\n",
        "print(len(animals))       # Prints \"3\"\n",
        "animals.remove('cat')     # Remove an element from a set\n",
        "print(len(animals))       # Prints \"2\""
      ],
      "execution_count": null,
      "outputs": [
        {
          "output_type": "stream",
          "text": [
            "True\n",
            "False\n",
            "True\n",
            "3\n",
            "3\n",
            "2\n"
          ],
          "name": "stdout"
        }
      ]
    },
    {
      "cell_type": "markdown",
      "metadata": {
        "id": "dfzd9kD3sVsh",
        "colab_type": "text"
      },
      "source": [
        "## Functions\n",
        "\n",
        "\n",
        "Python functions are defined using the def keyword. For example:"
      ]
    },
    {
      "cell_type": "code",
      "metadata": {
        "id": "IrAFUE-AsR9K",
        "colab_type": "code",
        "colab": {
          "base_uri": "https://localhost:8080/",
          "height": 68
        },
        "outputId": "f018c04b-849d-4cd0-bcf9-f632188739df"
      },
      "source": [
        "def sign(x):\n",
        "    if x > 0:\n",
        "        return 'positive'\n",
        "    elif x < 0:\n",
        "        return 'negative'\n",
        "    else:\n",
        "        return 'zero'\n",
        "\n",
        "for x in [-1, 0, 1]:\n",
        "    print(sign(x))"
      ],
      "execution_count": null,
      "outputs": [
        {
          "output_type": "stream",
          "text": [
            "negative\n",
            "zero\n",
            "positive\n"
          ],
          "name": "stdout"
        }
      ]
    },
    {
      "cell_type": "markdown",
      "metadata": {
        "id": "RohxLiO0sd4X",
        "colab_type": "text"
      },
      "source": [
        "We will often define functions to take optional keyword arguments, like this:"
      ]
    },
    {
      "cell_type": "code",
      "metadata": {
        "id": "LnMrX3ONsavI",
        "colab_type": "code",
        "colab": {
          "base_uri": "https://localhost:8080/",
          "height": 51
        },
        "outputId": "7bc9695c-1799-4043-ad2a-ef282e1cbc40"
      },
      "source": [
        "def hello(name, loud=False):\n",
        "    if loud:\n",
        "        print('HELLO, %s!' % name.upper())\n",
        "    else:\n",
        "        print('Hello, %s' % name)\n",
        "\n",
        "hello('Bob') # Prints \"Hello, Bob\"\n",
        "hello('Fred', loud=True)  # Prints \"HELLO, FRED!\""
      ],
      "execution_count": null,
      "outputs": [
        {
          "output_type": "stream",
          "text": [
            "Hello, Bob\n",
            "HELLO, FRED!\n"
          ],
          "name": "stdout"
        }
      ]
    },
    {
      "cell_type": "markdown",
      "metadata": {
        "id": "1LbAt_RSsipu",
        "colab_type": "text"
      },
      "source": [
        "## Classes\n",
        "\n",
        "The syntax for defining classes in Python is straightforward:\n"
      ]
    },
    {
      "cell_type": "code",
      "metadata": {
        "id": "glAkPfN1sfci",
        "colab_type": "code",
        "colab": {
          "base_uri": "https://localhost:8080/",
          "height": 51
        },
        "outputId": "05f058b5-172a-474e-dc64-2afc3d5252e2"
      },
      "source": [
        "class Greeter(object):\n",
        "\n",
        "    # Constructor\n",
        "    def __init__(self, name):\n",
        "        self.name = name  # Create an instance variable\n",
        "\n",
        "    # Instance method\n",
        "    def greet(self, loud=False):\n",
        "        if loud:\n",
        "            print('HELLO, %s!' % self.name.upper())\n",
        "        else:\n",
        "            print('Hello, %s' % self.name)\n",
        "\n",
        "g = Greeter('Fred')  # Construct an instance of the Greeter class\n",
        "g.greet()            # Call an instance method; prints \"Hello, Fred\"\n",
        "g.greet(loud=True)   # Call an instance method; prints \"HELLO, FRED!\""
      ],
      "execution_count": 15,
      "outputs": [
        {
          "output_type": "stream",
          "text": [
            "Hello, Fred\n",
            "HELLO, FRED!\n"
          ],
          "name": "stdout"
        }
      ]
    },
    {
      "cell_type": "markdown",
      "metadata": {
        "id": "9jXYX9nvsxMV",
        "colab_type": "text"
      },
      "source": [
        "# Quiz Question 7\n",
        "\n",
        "What does g.greet(lout=False) prints above?"
      ]
    },
    {
      "cell_type": "code",
      "metadata": {
        "id": "VUy7MjWJZmSL",
        "colab_type": "code",
        "colab": {
          "base_uri": "https://localhost:8080/",
          "height": 34
        },
        "outputId": "945e46b6-bf02-4279-b0f5-f3775a2763c2"
      },
      "source": [
        "g.greet(loud=False)"
      ],
      "execution_count": 16,
      "outputs": [
        {
          "output_type": "stream",
          "text": [
            "Hello, Fred\n"
          ],
          "name": "stdout"
        }
      ]
    },
    {
      "cell_type": "markdown",
      "metadata": {
        "id": "gRXVgzSFtHfT",
        "colab_type": "text"
      },
      "source": [
        "# Numpy\n",
        "\n",
        "\n",
        "Numpy is the core library for scientific computing in Python. It provides a high-performance multidimensional array object, and tools for working with these arrays. If you are already familiar with MATLAB, you might find [this tutorial](https://docs.scipy.org/doc/numpy/user/numpy-for-matlab-users.html) useful to get started with Numpy.\n",
        "\n",
        "\n",
        "\n",
        "---\n",
        "\n",
        "\n",
        "Arrays\n",
        "A numpy array is a grid of values, all of the same type, and is indexed by a tuple of nonnegative integers. The number of dimensions is the rank of the array; the shape of an array is a tuple of integers giving the size of the array along each dimension.\n",
        "\n",
        "We can initialize numpy arrays from nested Python lists, and access elements using square brackets:\n"
      ]
    },
    {
      "cell_type": "code",
      "metadata": {
        "id": "wUDXZDEfsuiD",
        "colab_type": "code",
        "colab": {
          "base_uri": "https://localhost:8080/",
          "height": 136
        },
        "outputId": "ee04c47f-7f85-4636-e270-419eaaf0bdea"
      },
      "source": [
        "import numpy as np\n",
        "\n",
        "a = np.array([1, 2, 3])   # Create a rank 1 array\n",
        "print(type(a))            # Prints \"<class 'numpy.ndarray'>\"\n",
        "print(a.shape)            # Prints \"(3,)\"\n",
        "print(a[0], a[1], a[2])   # Prints \"1 2 3\"\n",
        "a[0] = 15                  # Change an element of the array\n",
        "print(a)                  # Prints \"[5, 2, 3]\"\n",
        "\n",
        "b = np.array([[1,2,3],[4,5,6]])    # Create a rank 2 array\n",
        "print(b.shape)                     # Prints \"(2, 3)\"\n",
        "print(b[0, 0], b[0, 1], b[1, 0])   # Prints \"1 2 4\"\n",
        "\n",
        "print(sum(sum(a)*sum(b)))"
      ],
      "execution_count": 17,
      "outputs": [
        {
          "output_type": "stream",
          "text": [
            "<class 'numpy.ndarray'>\n",
            "(3,)\n",
            "1 2 3\n",
            "[15  2  3]\n",
            "(2, 3)\n",
            "1 2 4\n",
            "420\n"
          ],
          "name": "stdout"
        }
      ]
    },
    {
      "cell_type": "markdown",
      "metadata": {
        "id": "hLNB0LKjtsiG",
        "colab_type": "text"
      },
      "source": [
        "# Quiz Question 8\n",
        "\n",
        "What should a[0] be set equal to such that print(sum(sum(a)*sum(b))) prints 420?\n",
        "\n",
        "\n",
        "\n",
        "\n",
        "---\n",
        "\n",
        "\n",
        "Numpy also provides many functions to create arrays:\n"
      ]
    },
    {
      "cell_type": "code",
      "metadata": {
        "id": "uQQ1uhHGtdgd",
        "colab_type": "code",
        "colab": {
          "base_uri": "https://localhost:8080/",
          "height": 187
        },
        "outputId": "cd283185-dc70-42e7-fda5-85c6bae00513"
      },
      "source": [
        "import numpy as np\n",
        "\n",
        "a = np.zeros((2,2))   # Create an array of all zeros\n",
        "print(a)              # Prints \"[[ 0.  0.]\n",
        "                      #          [ 0.  0.]]\"\n",
        "\n",
        "b = np.ones((1,2))    # Create an array of all ones\n",
        "print(b)              # Prints \"[[ 1.  1.]]\"\n",
        "\n",
        "c = np.full((2,2), 7)  # Create a constant array\n",
        "print(c)               # Prints \"[[ 7.  7.]\n",
        "                       #          [ 7.  7.]]\"\n",
        "\n",
        "d = np.eye(2)         # Create a 2x2 identity matrix\n",
        "print(d)              # Prints \"[[ 1.  0.]\n",
        "                      #          [ 0.  1.]]\"\n",
        "\n",
        "e = np.random.random((2,2))  # Create an array filled with random values\n",
        "print(e)                     # Might print \"[[ 0.91940167  0.08143941]\n",
        "                             #               [ 0.68744134  0.87236687]]\"\n",
        "print(np.prod(e))"
      ],
      "execution_count": 18,
      "outputs": [
        {
          "output_type": "stream",
          "text": [
            "[[0. 0.]\n",
            " [0. 0.]]\n",
            "[[1. 1.]]\n",
            "[[7 7]\n",
            " [7 7]]\n",
            "[[1. 0.]\n",
            " [0. 1.]]\n",
            "[[0.69211463 0.82820555]\n",
            " [0.768897   0.28440851]]\n",
            "0.12535074464412077\n"
          ],
          "name": "stdout"
        }
      ]
    },
    {
      "cell_type": "markdown",
      "metadata": {
        "id": "Y7UF8HPuujzV",
        "colab_type": "text"
      },
      "source": [
        "# Quiz Question 9\n",
        "\n",
        "Is it guaranteed that print(np.prod(e)) will always be less than 1?"
      ]
    },
    {
      "cell_type": "markdown",
      "metadata": {
        "id": "8ozSHrmzuzay",
        "colab_type": "text"
      },
      "source": [
        "## Array indexing\n",
        "\n",
        "Numpy offers several ways to index into arrays.\n",
        "\n",
        "**Slicing**\n",
        "Similar to Python lists, numpy arrays can be sliced. Since arrays may be multidimensional, you must specify a slice for each dimension of the array:"
      ]
    },
    {
      "cell_type": "code",
      "metadata": {
        "id": "QypVe8W6t_Y2",
        "colab_type": "code",
        "colab": {
          "base_uri": "https://localhost:8080/",
          "height": 51
        },
        "outputId": "67dd4ccb-6b2b-4530-b404-2ee9319113a7"
      },
      "source": [
        "import numpy as np\n",
        "\n",
        "# Create the following rank 2 array with shape (3, 4)\n",
        "# [[ 1  2  3  4]\n",
        "#  [ 5  6  7  8]\n",
        "#  [ 9 10 11 12]]\n",
        "a = np.array([[1,2,3,4], [5,6,7,8], [9,10,11,12]])\n",
        "a[0, 0] = 4\n",
        "\n",
        "# Use slicing to pull out the subarray consisting of the first 2 rows\n",
        "# and columns 1 and 2; b is the following array of shape (2, 2):\n",
        "# [[2 3]\n",
        "#  [6 7]]\n",
        "b = a[:2, 1:3]\n",
        "\n",
        "# A slice of an array is a view into the same data, so modifying it\n",
        "# will modify the original array.\n",
        "print(a[0, 1])   # Prints \"2\"\n",
        "b[0, 0] = 77     # b[0, 0] is the same piece of data as a[0, 1]\n",
        "print(a[0, 1])   # Prints \"77\"\n",
        "\n",
        "c = a[:1, 2:4]\n",
        "c[0, 0] = 99"
      ],
      "execution_count": 19,
      "outputs": [
        {
          "output_type": "stream",
          "text": [
            "2\n",
            "77\n"
          ],
          "name": "stdout"
        }
      ]
    },
    {
      "cell_type": "code",
      "metadata": {
        "id": "mgBc2w0pjsmH",
        "colab_type": "code",
        "colab": {
          "base_uri": "https://localhost:8080/",
          "height": 68
        },
        "outputId": "340d7156-e172-4938-a80b-fa569927c8cf"
      },
      "source": [
        "a"
      ],
      "execution_count": 20,
      "outputs": [
        {
          "output_type": "execute_result",
          "data": {
            "text/plain": [
              "array([[ 4, 77, 99,  4],\n",
              "       [ 5,  6,  7,  8],\n",
              "       [ 9, 10, 11, 12]])"
            ]
          },
          "metadata": {
            "tags": []
          },
          "execution_count": 20
        }
      ]
    },
    {
      "cell_type": "markdown",
      "metadata": {
        "id": "QEoDyYAmwA0J",
        "colab_type": "text"
      },
      "source": [
        "# Quiz Question 10\n",
        "At which index of a, 99 values is stored? See quiz for options. "
      ]
    },
    {
      "cell_type": "markdown",
      "metadata": {
        "id": "phzn_89Iwk0I",
        "colab_type": "text"
      },
      "source": [
        "You can also mix integer indexing with slice indexing. However, doing so will yield an array of lower rank than the original array. Note that this is quite different from the way that MATLAB handles array slicing:"
      ]
    },
    {
      "cell_type": "code",
      "metadata": {
        "id": "AlkFtgkUvGFz",
        "colab_type": "code",
        "colab": {
          "base_uri": "https://localhost:8080/",
          "height": 119
        },
        "outputId": "becc54ce-f6f7-4710-a548-3ef9d7c25f86"
      },
      "source": [
        "import numpy as np\n",
        "\n",
        "# Create the following rank 2 array with shape (3, 4)\n",
        "# [[ 1  2  3  4]\n",
        "#  [ 5  6  7  8]\n",
        "#  [ 9 10 11 12]]\n",
        "a = np.array([[1,2,3,4], [5,6,7,8], [9,10,11,12]])\n",
        "\n",
        "# Two ways of accessing the data in the middle row of the array.\n",
        "# Mixing integer indexing with slices yields an array of lower rank,\n",
        "# while using only slices yields an array of the same rank as the\n",
        "# original array:\n",
        "row_r1 = a[1, :]    # Rank 1 view of the second row of a\n",
        "row_r2 = a[1:2, :]  # Rank 2 view of the second row of a\n",
        "print(row_r1, row_r1.shape)  # Prints \"[5 6 7 8] (4,)\"\n",
        "print(row_r2, row_r2.shape)  # Prints \"[[5 6 7 8]] (1, 4)\"\n",
        "\n",
        "# We can make the same distinction when accessing columns of an array:\n",
        "col_r1 = a[:, 1]\n",
        "col_r2 = a[:, 1:2]\n",
        "print(col_r1, col_r1.shape)  # Prints \"[ 2  6 10] (3,)\"\n",
        "print(col_r2, col_r2.shape)  # Prints \"[[ 2]\n",
        "                             #          [ 6]\n",
        "                             #          [10]] (3, 1)\""
      ],
      "execution_count": 21,
      "outputs": [
        {
          "output_type": "stream",
          "text": [
            "[5 6 7 8] (4,)\n",
            "[[5 6 7 8]] (1, 4)\n",
            "[ 2  6 10] (3,)\n",
            "[[ 2]\n",
            " [ 6]\n",
            " [10]] (3, 1)\n"
          ],
          "name": "stdout"
        }
      ]
    },
    {
      "cell_type": "markdown",
      "metadata": {
        "id": "-8ya9ZHlwqK7",
        "colab_type": "text"
      },
      "source": [
        "Integer array indexing: When you index into numpy arrays using slicing, the resulting array view will always be a subarray of the original array. In contrast, integer array indexing allows you to construct arbitrary arrays using the data from another array. Here is an example:"
      ]
    },
    {
      "cell_type": "code",
      "metadata": {
        "id": "Knk1HhLownX8",
        "colab_type": "code",
        "colab": {
          "base_uri": "https://localhost:8080/",
          "height": 85
        },
        "outputId": "62d0c99d-49ac-45e4-8767-964e3185994e"
      },
      "source": [
        "import numpy as np\n",
        "\n",
        "a = np.array([[1,2], [3, 4], [5, 6]])\n",
        "\n",
        "# An example of integer array indexing.\n",
        "# The returned array will have shape (3,) and\n",
        "print(a[[0, 1, 2], [0, 1, 0]])  # Prints \"[1 4 5]\"\n",
        "\n",
        "# The above example of integer array indexing is equivalent to this:\n",
        "print(np.array([a[0, 0], a[1, 1], a[2, 0]]))  # Prints \"[1 4 5]\"\n",
        "\n",
        "# When using integer array indexing, you can reuse the same\n",
        "# element from the source array:\n",
        "print(a[[0, 0], [1, 1]])  # Prints \"[2 2]\"\n",
        "\n",
        "# Equivalent to the previous integer array indexing example\n",
        "print(np.array([a[0, 1], a[0, 1]]))  # Prints \"[2 2]\""
      ],
      "execution_count": 22,
      "outputs": [
        {
          "output_type": "stream",
          "text": [
            "[1 4 5]\n",
            "[1 4 5]\n",
            "[2 2]\n",
            "[2 2]\n"
          ],
          "name": "stdout"
        }
      ]
    },
    {
      "cell_type": "markdown",
      "metadata": {
        "id": "pPY2c_kBw4tV",
        "colab_type": "text"
      },
      "source": [
        "## Datatypes\n",
        "\n",
        "Every numpy array is a grid of elements of the same type. Numpy provides a large set of numeric datatypes that you can use to construct arrays. Numpy tries to guess a datatype when you create an array, but functions that construct arrays usually also include an optional argument to explicitly specify the datatype. Here is an example:"
      ]
    },
    {
      "cell_type": "code",
      "metadata": {
        "id": "QX4zPCdTwsb6",
        "colab_type": "code",
        "colab": {
          "base_uri": "https://localhost:8080/",
          "height": 68
        },
        "outputId": "c9cf23a7-0c21-4d75-f639-d71161557360"
      },
      "source": [
        "import numpy as np\n",
        "\n",
        "x = np.array([1, 2])   # Let numpy choose the datatype\n",
        "print(x.dtype)         # Prints \"int64\"\n",
        "\n",
        "x = np.array([1.0, 2.0])   # Let numpy choose the datatype\n",
        "print(x.dtype)             # Prints \"float64\"\n",
        "\n",
        "x = np.array([1, 2], dtype=np.int64)   # Force a particular datatype\n",
        "print(x.dtype)                         # Prints \"int64\""
      ],
      "execution_count": 23,
      "outputs": [
        {
          "output_type": "stream",
          "text": [
            "int64\n",
            "float64\n",
            "int64\n"
          ],
          "name": "stdout"
        }
      ]
    },
    {
      "cell_type": "markdown",
      "metadata": {
        "id": "LFa1S7jWw-vK",
        "colab_type": "text"
      },
      "source": [
        "## Array math\n",
        "\n",
        "Basic mathematical functions operate elementwise on arrays, and are available both as operator overloads and as functions in the numpy module:"
      ]
    },
    {
      "cell_type": "code",
      "metadata": {
        "id": "ZgAIP41Tw81b",
        "colab_type": "code",
        "colab": {
          "base_uri": "https://localhost:8080/",
          "height": 323
        },
        "outputId": "3c46aa56-aba9-4c32-e801-e1e3a5c8d0e0"
      },
      "source": [
        "import numpy as np\n",
        "\n",
        "x = np.array([[1,2],[3,4]], dtype=np.float64)\n",
        "y = np.array([[5,6],[7,8]], dtype=np.float64)\n",
        "\n",
        "# Elementwise sum; both produce the array\n",
        "# [[ 6.0  8.0]\n",
        "#  [10.0 12.0]]\n",
        "print(x + y)\n",
        "print(np.add(x, y))\n",
        "\n",
        "# Elementwise difference; both produce the array\n",
        "# [[-4.0 -4.0]\n",
        "#  [-4.0 -4.0]]\n",
        "print(x - y)\n",
        "print(np.subtract(x, y))\n",
        "\n",
        "# Elementwise product; both produce the array\n",
        "# [[ 5.0 12.0]\n",
        "#  [21.0 32.0]]\n",
        "print(x * y)\n",
        "print(np.multiply(x, y))\n",
        "\n",
        "# Elementwise division; both produce the array\n",
        "# [[ 0.2         0.33333333]\n",
        "#  [ 0.42857143  0.5       ]]\n",
        "print(x / y)\n",
        "print(np.divide(x, y))\n",
        "\n",
        "# Elementwise square root; produces the array\n",
        "# [[ 1.          1.41421356]\n",
        "#  [ 1.73205081  2.        ]]\n",
        "print(np.sqrt(x))"
      ],
      "execution_count": 24,
      "outputs": [
        {
          "output_type": "stream",
          "text": [
            "[[ 6.  8.]\n",
            " [10. 12.]]\n",
            "[[ 6.  8.]\n",
            " [10. 12.]]\n",
            "[[-4. -4.]\n",
            " [-4. -4.]]\n",
            "[[-4. -4.]\n",
            " [-4. -4.]]\n",
            "[[ 5. 12.]\n",
            " [21. 32.]]\n",
            "[[ 5. 12.]\n",
            " [21. 32.]]\n",
            "[[0.2        0.33333333]\n",
            " [0.42857143 0.5       ]]\n",
            "[[0.2        0.33333333]\n",
            " [0.42857143 0.5       ]]\n",
            "[[1.         1.41421356]\n",
            " [1.73205081 2.        ]]\n"
          ],
          "name": "stdout"
        }
      ]
    },
    {
      "cell_type": "markdown",
      "metadata": {
        "id": "7MnEOHMGxOUx",
        "colab_type": "text"
      },
      "source": [
        "Note that unlike MATLAB, `*` is elementwise multiplication, not matrix multiplication. We instead use the dot function to compute inner products of vectors, to multiply a vector by a matrix, and to multiply matrices. dot is available both as a function in the numpy module and as an instance method of array objects:"
      ]
    },
    {
      "cell_type": "code",
      "metadata": {
        "id": "5Hw97GNpxC8f",
        "colab_type": "code",
        "colab": {
          "base_uri": "https://localhost:8080/",
          "height": 153
        },
        "outputId": "748664e2-c3c5-4a49-b757-cbe005b95afa"
      },
      "source": [
        "import numpy as np\n",
        "\n",
        "x = np.array([[1,2],[3,4]])\n",
        "y = np.array([[5,6],[7,8]])\n",
        "\n",
        "v = np.array([9,10])\n",
        "w = np.array([11, 12])\n",
        "\n",
        "# Inner product of vectors; both produce 219\n",
        "print(v.dot(w))\n",
        "print(np.dot(v, w))\n",
        "\n",
        "# Matrix / vector product; both produce the rank 1 array [29 67]\n",
        "print(x.dot(v))\n",
        "print(np.dot(x, v))\n",
        "\n",
        "# Matrix / matrix product; both produce the rank 2 array\n",
        "# [[19 22]\n",
        "#  [43 50]]\n",
        "print(x.dot(y))\n",
        "print(np.dot(x, y))"
      ],
      "execution_count": 25,
      "outputs": [
        {
          "output_type": "stream",
          "text": [
            "219\n",
            "219\n",
            "[29 67]\n",
            "[29 67]\n",
            "[[19 22]\n",
            " [43 50]]\n",
            "[[19 22]\n",
            " [43 50]]\n"
          ],
          "name": "stdout"
        }
      ]
    },
    {
      "cell_type": "markdown",
      "metadata": {
        "id": "TqrBwA9yxob5",
        "colab_type": "text"
      },
      "source": [
        "# Quiz Question 11\n",
        "\n",
        "What is the value of the square-root of sum of the dot product between y and the square-root of x? (answer up to 5 decimal points only, e.g. 0.12345)"
      ]
    },
    {
      "cell_type": "code",
      "metadata": {
        "id": "oobjieN6st2p",
        "colab_type": "code",
        "colab": {
          "base_uri": "https://localhost:8080/",
          "height": 34
        },
        "outputId": "b60f89ea-7963-47e7-8cae-ee2b961fe56d"
      },
      "source": [
        "print(np.round_(np.sqrt(np.sum(np.dot(x, y))),decimals=5))"
      ],
      "execution_count": 26,
      "outputs": [
        {
          "output_type": "stream",
          "text": [
            "11.57584\n"
          ],
          "name": "stdout"
        }
      ]
    },
    {
      "cell_type": "markdown",
      "metadata": {
        "id": "Ysu6nTdVyk3r",
        "colab_type": "text"
      },
      "source": [
        "Numpy provides many useful functions for performing computations on arrays; one of the most useful is `sum`:"
      ]
    },
    {
      "cell_type": "code",
      "metadata": {
        "id": "TREMQheFxRSD",
        "colab_type": "code",
        "colab": {
          "base_uri": "https://localhost:8080/",
          "height": 68
        },
        "outputId": "615c7b71-77c4-42d4-9700-4b57b4aa1af1"
      },
      "source": [
        "import numpy as np\n",
        "\n",
        "x = np.array([[1,2],[3,4]])\n",
        "\n",
        "print(np.sum(x))  # Compute sum of all elements; prints \"10\"\n",
        "print(np.sum(x, axis=0))  # Compute sum of each column; prints \"[4 6]\"\n",
        "print(np.sum(x, axis=1))  # Compute sum of each row; prints \"[3 7]\""
      ],
      "execution_count": 27,
      "outputs": [
        {
          "output_type": "stream",
          "text": [
            "10\n",
            "[4 6]\n",
            "[3 7]\n"
          ],
          "name": "stdout"
        }
      ]
    },
    {
      "cell_type": "markdown",
      "metadata": {
        "id": "uahkTbYJzIK1",
        "colab_type": "text"
      },
      "source": [
        "# Quiz Question 12\n",
        "\n",
        "What is the sum of all the elements of x and square-root of dot-product of sum of each coloumn of x and sum of each row of x? (answer up to 5 decimal points only, e.g. 0.12345)"
      ]
    },
    {
      "cell_type": "code",
      "metadata": {
        "id": "fiKZPJ3YuNzc",
        "colab_type": "code",
        "colab": {
          "base_uri": "https://localhost:8080/",
          "height": 34
        },
        "outputId": "fb1f2924-0f2f-49e7-c308-0ca6e3c893e6"
      },
      "source": [
        "np.sum(x) + np.sqrt(np.dot(np.sum(x, axis=0),np.sum(x, axis=1)))"
      ],
      "execution_count": 28,
      "outputs": [
        {
          "output_type": "execute_result",
          "data": {
            "text/plain": [
              "17.348469228349536"
            ]
          },
          "metadata": {
            "tags": []
          },
          "execution_count": 28
        }
      ]
    },
    {
      "cell_type": "markdown",
      "metadata": {
        "id": "WcrVRbQPzveH",
        "colab_type": "text"
      },
      "source": [
        "## Broadcasting\n",
        "\n",
        "Broadcasting is a powerful mechanism that allows numpy to work with arrays of different shapes when performing arithmetic operations. Frequently we have a smaller array and a larger array, and we want to use the smaller array multiple times to perform some operation on the larger array.\n",
        "\n",
        "For example, suppose that we want to add a constant vector to each row of a matrix. We could do it like this:"
      ]
    },
    {
      "cell_type": "code",
      "metadata": {
        "id": "MtO9pH8qyn9o",
        "colab_type": "code",
        "colab": {
          "base_uri": "https://localhost:8080/",
          "height": 85
        },
        "outputId": "da694e92-edc3-4b7c-a09d-fb871003fe17"
      },
      "source": [
        "import numpy as np\n",
        "\n",
        "# We will add the vector v to each row of the matrix x,\n",
        "# storing the result in the matrix y\n",
        "x = np.array([[1,2,3], [4,5,6], [7,8,9], [10, 11, 12]])\n",
        "v = np.array([1, 0, 1])\n",
        "y = np.empty_like(x)   # Create an empty matrix with the same shape as x\n",
        "\n",
        "# Add the vector v to each row of the matrix x with an explicit loop\n",
        "for i in range(4):\n",
        "    y[i, :] = x[i, :] + v\n",
        "\n",
        "# Now y is the following\n",
        "# [[ 2  2  4]\n",
        "#  [ 5  5  7]\n",
        "#  [ 8  8 10]\n",
        "#  [11 11 13]]\n",
        "print(y)"
      ],
      "execution_count": 29,
      "outputs": [
        {
          "output_type": "stream",
          "text": [
            "[[ 2  2  4]\n",
            " [ 5  5  7]\n",
            " [ 8  8 10]\n",
            " [11 11 13]]\n"
          ],
          "name": "stdout"
        }
      ]
    },
    {
      "cell_type": "code",
      "metadata": {
        "id": "Xztstj-j_yii",
        "colab_type": "code",
        "colab": {
          "base_uri": "https://localhost:8080/",
          "height": 85
        },
        "outputId": "c2ee6570-429c-4126-c696-0343a82c8a62"
      },
      "source": [
        "x+v"
      ],
      "execution_count": 30,
      "outputs": [
        {
          "output_type": "execute_result",
          "data": {
            "text/plain": [
              "array([[ 2,  2,  4],\n",
              "       [ 5,  5,  7],\n",
              "       [ 8,  8, 10],\n",
              "       [11, 11, 13]])"
            ]
          },
          "metadata": {
            "tags": []
          },
          "execution_count": 30
        }
      ]
    },
    {
      "cell_type": "markdown",
      "metadata": {
        "id": "IFnoEMTMz-hv",
        "colab_type": "text"
      },
      "source": [
        "## Image operations\n",
        "\n",
        "PIL is the Python Imaging Library by Fredrik Lundh and Contributors. You should learn PIL as we would be using it a lot along with PyTorch"
      ]
    },
    {
      "cell_type": "code",
      "metadata": {
        "id": "egyBkthR0hPg",
        "colab_type": "code",
        "colab": {
          "base_uri": "https://localhost:8080/",
          "height": 220
        },
        "outputId": "f49b7958-61ab-43f4-b3ff-164f13fd7991"
      },
      "source": [
        "from PIL import Image\n",
        "import requests\n",
        "from io import BytesIO\n",
        "\n",
        "response = requests.get('https://encrypted-tbn0.gstatic.com/images?q=tbn%3AANd9GcRZpTmijaNOH6MmycM_eiPKcEl5mVvbwl7a8YKVGpEEMIanDcSt')\n",
        "img = Image.open(BytesIO(response.content))\n",
        "display(img)"
      ],
      "execution_count": 31,
      "outputs": [
        {
          "output_type": "display_data",
          "data": {
            "image/png": "[encoded data removed]",
            "text/plain": [
              "<PIL.PngImagePlugin.PngImageFile image mode=P size=601x203 at 0x7FEBC18AFE48>"
            ]
          },
          "metadata": {
            "tags": []
          }
        }
      ]
    },
    {
      "cell_type": "markdown",
      "metadata": {
        "id": "uPvz1COw02YV",
        "colab_type": "text"
      },
      "source": [
        "Copying a subrectangle from an image:"
      ]
    },
    {
      "cell_type": "code",
      "metadata": {
        "id": "ZW3VI_Sw0mJl",
        "colab_type": "code",
        "colab": {
          "base_uri": "https://localhost:8080/",
          "height": 217
        },
        "outputId": "8e66776d-1c82-4e81-8ad8-4c110135e192"
      },
      "source": [
        "box1 = (150, 150, 300, 300)\n",
        "box2 = (200, 100, 250, 200)\n",
        "box3 = (100, 0, 200, 200)\n",
        "box4 = (100, 400, 200, 200)\n",
        "box5 = (0, 0, 100, 100)\n",
        "box6 = (200, 0, 200, 200)\n",
        "box7 = (0, 0, 200, 200)\n",
        "box8 = (100, 100, 200, 200)\n",
        "box9 = (100, 250, 400, 300)\n",
        "region = img.crop(box7)\n",
        "display(region)"
      ],
      "execution_count": 32,
      "outputs": [
        {
          "output_type": "display_data",
          "data": {
            "image/png": "[encoded data removed]",
            "text/plain": [
              "<PIL.Image.Image image mode=P size=200x200 at 0x7FEBC18A31D0>"
            ]
          },
          "metadata": {
            "tags": []
          }
        }
      ]
    },
    {
      "cell_type": "markdown",
      "metadata": {
        "id": "MA2lphrQcWvW",
        "colab_type": "text"
      },
      "source": [
        "# Quiz Question 13\n",
        "\n",
        "Which box value shall be used in img.crop such that the colorful Python Logo is completely visible?"
      ]
    },
    {
      "cell_type": "markdown",
      "metadata": {
        "id": "38xNwb1td0u3",
        "colab_type": "text"
      },
      "source": [
        "## Playing with images\n"
      ]
    },
    {
      "cell_type": "code",
      "metadata": {
        "id": "nzDtSnzu069u",
        "colab_type": "code",
        "colab": {
          "base_uri": "https://localhost:8080/",
          "height": 423
        },
        "outputId": "e1c97987-10d4-4d90-861a-25ccbe8ddcae"
      },
      "source": [
        "from PIL import Image\n",
        "\n",
        "#Let's first convert our png (4 channel, R, G, B , Alpha) image into jpg (3 channel, R, G, B) image.\n",
        "img_jpg = Image.new(\"RGB\", img.size, (255, 255, 255))\n",
        "img_jpg.paste(img)\n",
        "# display jpg image\n",
        "display(img_jpg)\n",
        "\n",
        "#convert our image into numpy array\n",
        "npimg = np.array(img_jpg)\n",
        "\n",
        "#convert numpy image back to PIL image and display it\n",
        "npimg = Image.fromarray(npimg)\n",
        "display(npimg)"
      ],
      "execution_count": 33,
      "outputs": [
        {
          "output_type": "display_data",
          "data": {
            "image/png": "[encoded data removed]",
            "text/plain": [
              "<PIL.Image.Image image mode=RGB size=601x203 at 0x7FEBC18EFB38>"
            ]
          },
          "metadata": {
            "tags": []
          }
        },
        {
          "output_type": "display_data",
          "data": {
            "image/png": "[encoded data removed]",
            "text/plain": [
              "<PIL.Image.Image image mode=RGB size=601x203 at 0x7FEBC18EFA90>"
            ]
          },
          "metadata": {
            "tags": []
          }
        }
      ]
    },
    {
      "cell_type": "code",
      "metadata": {
        "id": "vGGLY19mgk3F",
        "colab_type": "code",
        "colab": {
          "base_uri": "https://localhost:8080/",
          "height": 220
        },
        "outputId": "8bd72ac6-d6f9-4454-aecf-650a37f957a5"
      },
      "source": [
        "npimg = np.array(img_jpg)\n",
        "# print(img_jpg.size)\n",
        "# print(npimg.shape)\n",
        "# Operation 1: \n",
        "#npimg[0:0, 100:100] = 255\n",
        "# Operation 2: \n",
        "#npimg[50:200, 50:200] = 255\n",
        "# Operation 3: \n",
        "#npimg[100:150, 0:100] = 255\n",
        "# Operation 4: \n",
        "npimg[0:150, 50:200] = 255\n",
        "\n",
        "npimg = Image.fromarray(npimg)\n",
        "display(npimg)"
      ],
      "execution_count": 34,
      "outputs": [
        {
          "output_type": "display_data",
          "data": {
            "image/png": "[encoded data removed]",
            "text/plain": [
              "<PIL.Image.Image image mode=RGB size=601x203 at 0x7FEBC18EF2B0>"
            ]
          },
          "metadata": {
            "tags": []
          }
        }
      ]
    },
    {
      "cell_type": "markdown",
      "metadata": {
        "id": "xs3pNYEcjvh4",
        "colab_type": "text"
      },
      "source": [
        "# Quiz Question 14\n",
        "Which Operation will hide the Colorful Python logo completely?\n",
        "\n",
        "# Quiz Question 15\n",
        "Numpy Axies are (y, x), where as PIL axies are (x, y). True or False?"
      ]
    },
    {
      "cell_type": "markdown",
      "metadata": {
        "id": "N5Bl4tULmA-f",
        "colab_type": "text"
      },
      "source": [
        "## Gradients\n",
        "Notice how cleanly we calculated (x or y? you can find out if your 15th answer was correct) gradient!"
      ]
    },
    {
      "cell_type": "code",
      "metadata": {
        "id": "FVhSXW5pDKva",
        "colab_type": "code",
        "colab": {}
      },
      "source": [
        "x = np.array([[1,2],[3,4]])"
      ],
      "execution_count": 35,
      "outputs": []
    },
    {
      "cell_type": "code",
      "metadata": {
        "id": "m4HhvcBnDVQj",
        "colab_type": "code",
        "colab": {
          "base_uri": "https://localhost:8080/",
          "height": 34
        },
        "outputId": "e40f883a-fe6c-44ad-d5dd-c443ae2577a9"
      },
      "source": [
        "x[:,0]"
      ],
      "execution_count": 36,
      "outputs": [
        {
          "output_type": "execute_result",
          "data": {
            "text/plain": [
              "array([1, 3])"
            ]
          },
          "metadata": {
            "tags": []
          },
          "execution_count": 36
        }
      ]
    },
    {
      "cell_type": "code",
      "metadata": {
        "id": "dnfMUmOYdBQP",
        "colab_type": "code",
        "colab": {
          "base_uri": "https://localhost:8080/",
          "height": 219
        },
        "outputId": "090d7876-538e-4eaf-8944-7991ed81f0b3"
      },
      "source": [
        "npimg = np.array(img_jpg)\n",
        "# Gradient Operation\n",
        "newimg = npimg[:-1, :] - npimg[1:, :]\n",
        "npimg = Image.fromarray(newimg)\n",
        "display(npimg)"
      ],
      "execution_count": 37,
      "outputs": [
        {
          "output_type": "display_data",
          "data": {
            "image/png": "[encoded data removed]",
            "text/plain": [
              "<PIL.Image.Image image mode=RGB size=601x202 at 0x7FEBC18EFB70>"
            ]
          },
          "metadata": {
            "tags": []
          }
        }
      ]
    },
    {
      "cell_type": "markdown",
      "metadata": {
        "id": "e6aALYGYld2d",
        "colab_type": "text"
      },
      "source": [
        "# Quiz Question 16\n",
        "\n",
        "From the options available below, which operation will give us \"other\" gradient? (Other means if we got x-gradient above then y-gradients and vice-verse)\n",
        "\n",
        "1. newimg = npimg[:-1, :] - npimg[1:, :]\n",
        "2. newimg = npimg[:, 1:] - npimg[1:, :]\n",
        "3. newimg = npimg[:-1, :] - npimg[:, 1:]\n",
        "4. newimg = npimg[:, :-1] - npimg[:, 1:]\n",
        "\n"
      ]
    },
    {
      "cell_type": "code",
      "metadata": {
        "id": "_ddhh0Grb1SY",
        "colab_type": "code",
        "colab": {
          "base_uri": "https://localhost:8080/",
          "height": 220
        },
        "outputId": "7fe2ca66-8c6a-4022-d272-6599cd3575ea"
      },
      "source": [
        "#4\n",
        "npimg = np.array(img_jpg)\n",
        "newimg = npimg[:, :-1] - npimg[:, 1:]\n",
        "npimg = Image.fromarray(newimg)\n",
        "display(npimg)"
      ],
      "execution_count": 38,
      "outputs": [
        {
          "output_type": "display_data",
          "data": {
            "image/png": "[encoded data removed]",
            "text/plain": [
              "<PIL.Image.Image image mode=RGB size=600x203 at 0x7FEBC18EF630>"
            ]
          },
          "metadata": {
            "tags": []
          }
        }
      ]
    },
    {
      "cell_type": "markdown",
      "metadata": {
        "id": "Wvq1z8Rqnqds",
        "colab_type": "text"
      },
      "source": [
        "What you have done above is one of the very important operation as you will see in future. This is used in Loss function as well.\n",
        "\n",
        "## Convolution\n",
        "\n",
        "We are going to use filter2D function which is built into OpenCV to perform Convolution.\n"
      ]
    },
    {
      "cell_type": "code",
      "metadata": {
        "id": "xDXsqPRXk5-y",
        "colab_type": "code",
        "colab": {}
      },
      "source": [
        "# import the necessary packages\n",
        "import numpy as np\n",
        "from urllib.request import urlopen\n",
        "import cv2\n",
        "from matplotlib import pyplot as plt\n",
        "\n",
        "# METHOD #1: OpenCV, NumPy, and urllib\n",
        "def url_to_image(url):\n",
        "\t# download the image, convert it to a NumPy array, and then read\n",
        "\t# it into OpenCV format\n",
        "\tresp = urlopen(url)\n",
        "\timage = np.asarray(bytearray(resp.read()), dtype=\"uint8\")\n",
        "\timage = cv2.imdecode(image, cv2.IMREAD_COLOR)\n",
        " \n",
        "\t# return the image\n",
        "\treturn image"
      ],
      "execution_count": 1,
      "outputs": []
    },
    {
      "cell_type": "code",
      "metadata": {
        "id": "Vdg5KfQXohjP",
        "colab_type": "code",
        "colab": {
          "base_uri": "https://localhost:8080/",
          "height": 204
        },
        "outputId": "e0ae81e0-d40a-48fb-bef2-2ddaa3d2c4fc"
      },
      "source": [
        "image = url_to_image(\"data:image/jpeg;base64,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\")\n",
        "from google.colab.patches import cv2_imshow\n",
        "cv2_imshow(image)"
      ],
      "execution_count": 2,
      "outputs": [
        {
          "output_type": "display_data",
          "data": {
            "image/png": "[encoded data removed]",
            "text/plain": [
              "<PIL.Image.Image image mode=RGB size=269x187 at 0x7FEBCD236CC0>"
            ]
          },
          "metadata": {
            "tags": []
          }
        }
      ]
    },
    {
      "cell_type": "markdown",
      "metadata": {
        "id": "vJMKdEkUrlyF",
        "colab_type": "text"
      },
      "source": [
        "# Canny Edge Detection"
      ]
    },
    {
      "cell_type": "code",
      "metadata": {
        "id": "-XSF96c0o1MS",
        "colab_type": "code",
        "colab": {
          "base_uri": "https://localhost:8080/",
          "height": 204
        },
        "outputId": "a81bda4e-3220-465e-b258-3fb531a21a94"
      },
      "source": [
        "edges = cv2.Canny(image,100,200)\n",
        "cv2_imshow(edges)"
      ],
      "execution_count": 3,
      "outputs": [
        {
          "output_type": "display_data",
          "data": {
            "image/png": "[encoded data removed]",
            "text/plain": [
              "<PIL.Image.Image image mode=L size=269x187 at 0x7FEBC39C3C88>"
            ]
          },
          "metadata": {
            "tags": []
          }
        }
      ]
    },
    {
      "cell_type": "markdown",
      "metadata": {
        "id": "3m0m7w1Dru_d",
        "colab_type": "text"
      },
      "source": [
        "## Convolution\n",
        "\n",
        "As mentioned above we'll use OpenCV's inbuilt function `filter2D` to perform our convolution operation. We are defining a vertical Edge detector below to perform our convolution. "
      ]
    },
    {
      "cell_type": "code",
      "metadata": {
        "id": "XZejR_S7rqYf",
        "colab_type": "code",
        "colab": {
          "base_uri": "https://localhost:8080/",
          "height": 204
        },
        "outputId": "0c38e99a-7583-4716-d576-8a1e2473ed3d"
      },
      "source": [
        "kernel = np.float32([[-1,0,1],[-1,0,1],[-1,0,1]])\n",
        "\n",
        "dst = cv2.filter2D(image,-1,kernel)\n",
        "cv2_imshow(dst)"
      ],
      "execution_count": 4,
      "outputs": [
        {
          "output_type": "display_data",
          "data": {
            "image/png": "[encoded data removed]",
            "text/plain": [
              "<PIL.Image.Image image mode=RGB size=269x187 at 0x7FEBC39D0208>"
            ]
          },
          "metadata": {
            "tags": []
          }
        }
      ]
    },
    {
      "cell_type": "markdown",
      "metadata": {
        "id": "3nJIICgqr9kp",
        "colab_type": "text"
      },
      "source": [
        "# Quiz Question 17\n",
        "Which kernel among these options will give us horizontal edge? \n",
        "\n",
        "1. kernel = np.float32([[-1, -1, -1],[0,0,0],[1,1,1]])\n",
        "2. kernel = np.float32([[-1, -2, -1],[0,0,0],[1,2,1]])\n",
        "3. kernel = np.float32([[-4, -1, -4],[0,0,0],[4,1,4]])\n",
        "4. kernel = np.float32([[-4, -4, -4],[0,0,0],[4,4,4]])"
      ]
    },
    {
      "cell_type": "code",
      "metadata": {
        "id": "SFQxVsLMrtog",
        "colab_type": "code",
        "colab": {
          "base_uri": "https://localhost:8080/",
          "height": 204
        },
        "outputId": "deff24bb-1b5e-4ff9-faf4-33d254676e24"
      },
      "source": [
        "kernel = np.float32([[-1, -2, -1],[0,0,0],[1,2,1]]) # use the correct kernel from above\n",
        "dst = cv2.filter2D(image,-1,kernel)\n",
        "cv2_imshow(dst)"
      ],
      "execution_count": 6,
      "outputs": [
        {
          "output_type": "display_data",
          "data": {
            "image/png": "[encoded data removed]",
            "text/plain": [
              "<PIL.Image.Image image mode=RGB size=269x187 at 0x7FEBC19575F8>"
            ]
          },
          "metadata": {
            "tags": []
          }
        }
      ]
    },
    {
      "cell_type": "markdown",
      "metadata": {
        "id": "hBj3L7a5wi-1",
        "colab_type": "text"
      },
      "source": [
        "# Quiz Question 18\n",
        "\n",
        "What would this kernel do?\n",
        "\n",
        "*   kernel = 1/9*np.float32([[1,1,1],[1,1,1],[1,1,1]])\n",
        "\n",
        "\n",
        "\n"
      ]
    },
    {
      "cell_type": "code",
      "metadata": {
        "id": "aOdjQVM7aLnN",
        "colab_type": "code",
        "colab": {
          "base_uri": "https://localhost:8080/",
          "height": 204
        },
        "outputId": "2741c64f-31ac-44dc-d018-03c1a5a7bd7a"
      },
      "source": [
        "kernel = 1/9*np.float32([[1,1,1],[1,1,1],[1,1,1]]) # use the correct kernel from above\n",
        "dst = cv2.filter2D(image,-1,kernel)\n",
        "cv2_imshow(dst)"
      ],
      "execution_count": 7,
      "outputs": [
        {
          "output_type": "display_data",
          "data": {
            "image/png": "[encoded data removed]",
            "text/plain": [
              "<PIL.Image.Image image mode=RGB size=269x187 at 0x7FEBC19576A0>"
            ]
          },
          "metadata": {
            "tags": []
          }
        }
      ]
    },
    {
      "cell_type": "markdown",
      "metadata": {
        "id": "ac9S7sDaxBXD",
        "colab_type": "text"
      },
      "source": [
        "# Quiz Question 19\n",
        "\n",
        "What would this kernel do?\n",
        "\n",
        "*   kernal = np.float32([[0,0,0],[0,1,0],[0,0,0]])"
      ]
    },
    {
      "cell_type": "markdown",
      "metadata": {
        "id": "cGS5GSwst_Bx",
        "colab_type": "text"
      },
      "source": [
        "# RGB to Grayscale Conversion\n",
        "There are many ways to convert RGB to Grayscale, below is just one of them (averaging the colors) which we are trying but is wrong. "
      ]
    },
    {
      "cell_type": "code",
      "metadata": {
        "id": "ccHf9t0rsdEg",
        "colab_type": "code",
        "colab": {
          "base_uri": "https://localhost:8080/",
          "height": 232
        },
        "outputId": "816de156-15da-489a-d123-d9f7e4d43a73"
      },
      "source": [
        "npimg = np.array(img_jpg)\n",
        "# this operation is wrong, how can we fix it?\n",
        "npimg = np.sum(npimg, axis=-1)/3\n",
        "print(npimg.shape)\n",
        "npimg = Image.fromarray(npimg.astype('uint8'))\n",
        "display(npimg)"
      ],
      "execution_count": 8,
      "outputs": [
        {
          "output_type": "error",
          "ename": "NameError",
          "evalue": "ignored",
          "traceback": [
            "\u001b[0;31m---------------------------------------------------------------------------\u001b[0m",
            "\u001b[0;31mNameError\u001b[0m                                 Traceback (most recent call last)",
            "\u001b[0;32m<ipython-input-8-642d97242ef5>\u001b[0m in \u001b[0;36m<module>\u001b[0;34m()\u001b[0m\n\u001b[0;32m----> 1\u001b[0;31m \u001b[0mnpimg\u001b[0m \u001b[0;34m=\u001b[0m \u001b[0mnp\u001b[0m\u001b[0;34m.\u001b[0m\u001b[0marray\u001b[0m\u001b[0;34m(\u001b[0m\u001b[0mimg_jpg\u001b[0m\u001b[0;34m)\u001b[0m\u001b[0;34m\u001b[0m\u001b[0;34m\u001b[0m\u001b[0m\n\u001b[0m\u001b[1;32m      2\u001b[0m \u001b[0;31m# this operation is wrong, how can we fix it?\u001b[0m\u001b[0;34m\u001b[0m\u001b[0;34m\u001b[0m\u001b[0;34m\u001b[0m\u001b[0m\n\u001b[1;32m      3\u001b[0m \u001b[0mnpimg\u001b[0m \u001b[0;34m=\u001b[0m \u001b[0mnp\u001b[0m\u001b[0;34m.\u001b[0m\u001b[0msum\u001b[0m\u001b[0;34m(\u001b[0m\u001b[0mnpimg\u001b[0m\u001b[0;34m/\u001b[0m\u001b[0;36m3\u001b[0m\u001b[0;34m,\u001b[0m \u001b[0maxis\u001b[0m\u001b[0;34m=\u001b[0m\u001b[0;34m-\u001b[0m\u001b[0;36m1\u001b[0m\u001b[0;34m)\u001b[0m\u001b[0;34m\u001b[0m\u001b[0;34m\u001b[0m\u001b[0m\n\u001b[1;32m      4\u001b[0m \u001b[0mprint\u001b[0m\u001b[0;34m(\u001b[0m\u001b[0mnpimg\u001b[0m\u001b[0;34m.\u001b[0m\u001b[0mshape\u001b[0m\u001b[0;34m)\u001b[0m\u001b[0;34m\u001b[0m\u001b[0;34m\u001b[0m\u001b[0m\n\u001b[1;32m      5\u001b[0m \u001b[0mnpimg\u001b[0m \u001b[0;34m=\u001b[0m \u001b[0mImage\u001b[0m\u001b[0;34m.\u001b[0m\u001b[0mfromarray\u001b[0m\u001b[0;34m(\u001b[0m\u001b[0mnpimg\u001b[0m\u001b[0;34m.\u001b[0m\u001b[0mastype\u001b[0m\u001b[0;34m(\u001b[0m\u001b[0;34m'uint8'\u001b[0m\u001b[0;34m)\u001b[0m\u001b[0;34m)\u001b[0m\u001b[0;34m\u001b[0m\u001b[0;34m\u001b[0m\u001b[0m\n",
            "\u001b[0;31mNameError\u001b[0m: name 'img_jpg' is not defined"
          ]
        }
      ]
    },
    {
      "cell_type": "markdown",
      "metadata": {
        "id": "JMiiFjLzve1_",
        "colab_type": "text"
      },
      "source": [
        "# Quiz Question 20\n",
        "Which is the below is correct way of average the channels to get grayscale image?\n",
        "1. npimg = np.sum(npimg/3, axis=-1)\n",
        "2. npimg = np.sum(npimg, axis=-1)/3"
      ]
    },
    {
      "cell_type": "code",
      "metadata": {
        "id": "Z9Q8jENAxmmG",
        "colab_type": "code",
        "colab": {}
      },
      "source": [
        ""
      ],
      "execution_count": null,
      "outputs": []
    }
  ]
}